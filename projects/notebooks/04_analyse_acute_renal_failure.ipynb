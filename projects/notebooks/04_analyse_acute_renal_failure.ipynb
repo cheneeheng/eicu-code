{
 "cells": [
  {
   "cell_type": "markdown",
   "metadata": {},
   "source": [
    "# Select patient with valid data for selected signal sources\n",
    "- sao2, \n",
    "- heartrate, \n",
    "- respiration, \n",
    "- systemicsystolic, \n",
    "- systemicdiastolic, \n",
    "- systemicmean\n",
    "- netto input-output volume (io_nettotal)\n",
    "- urine volume"
   ]
  },
  {
   "cell_type": "code",
   "execution_count": 1,
   "metadata": {},
   "outputs": [],
   "source": [
    "import sys\n",
    "sys.path.append(\"../../\")\n",
    "\n",
    "import json\n",
    "import os\n",
    "import numpy as np\n",
    "import pandas as pd\n",
    "import matplotlib.pyplot as plt\n",
    "%matplotlib inline\n",
    "\n",
    "import icd10\n",
    "from icd9cms.icd9 import search\n",
    "\n",
    "from collections import Counter\n",
    "\n",
    "from projects.data_cleaning import *\n",
    "\n",
    "os.makedirs(\"_cache\", exist_ok=True)\n",
    "\n",
    "DATABASE_DIR = '../../outputs/all/'\n"
   ]
  },
  {
   "cell_type": "code",
   "execution_count": 2,
   "metadata": {},
   "outputs": [],
   "source": [
    "vitals_selected = ['sao2', 'heartrate', 'respiration', 'systemicsystolic', 'systemicdiastolic', 'systemicmean']\n",
    "entry_name = 'Urine'\n",
    "entry = 'celllabel'\n",
    "entry_group = 'intakeOutput'\n",
    "\n",
    "# arf: acute renal failure\n",
    "pid_arf = []\n",
    "pid_arf_valid = []\n",
    "\n",
    "pid_arf_cache_path = '_cache/pid_arf.npy'\n",
    "pid_arf_valid_cache_path = '_cache/pid_arf_valid.npy'\n",
    "if os.path.exists(pid_arf_cache_path) and os.path.exists(pid_arf_valid_cache_path):\n",
    "    pid_arf = np.load(pid_arf_cache_path, allow_pickle=True)\n",
    "    pid_arf_valid = np.load(pid_arf_valid_cache_path, allow_pickle=True)\n",
    "\n",
    "else:\n",
    "    for filename in os.listdir(DATABASE_DIR):\n",
    "        data = json.load(open(DATABASE_DIR+filename))\n",
    "        if len(data['diagnosis']['diagnosisoffset']) > 0:\n",
    "            is_arf = False\n",
    "            for diagnosisstr in data['diagnosis']['diagnosisstring']:\n",
    "                if 'acute renal failure' in diagnosisstr:\n",
    "                    pid_arf.append(data['patient']['patientunitstayid'][0])\n",
    "                    is_arf = True\n",
    "                    break\n",
    "            if is_arf:\n",
    "                io_nettotal = data['intakeOutput']['nettotal']\n",
    "                subset_idx = select_entry_subset(data, entry_group, entry, entry_name)\n",
    "                urine = select_list_subset_with_index(data[entry_group]['cellvaluenumeric'], subset_idx)\n",
    "\n",
    "                if valid_data_length(io_nettotal) == 0:\n",
    "                    continue\n",
    "                if len(urine) == 0:\n",
    "                    continue\n",
    "                for vital in vitals_selected:\n",
    "                    if valid_data_length(data['vitalPeriodic'][vital]) == 0:\n",
    "                        continue\n",
    "                pid_arf_valid.append(data['patient']['patientunitstayid'][0])\n",
    "                            \n",
    "    np.save(pid_arf_cache_path, pid_arf)\n",
    "    np.save(pid_arf_valid_cache_path, pid_arf_valid)"
   ]
  },
  {
   "cell_type": "markdown",
   "metadata": {},
   "source": [
    "# Check ICD code for patient with ARF diagnosis"
   ]
  },
  {
   "cell_type": "code",
   "execution_count": 3,
   "metadata": {},
   "outputs": [],
   "source": [
    "icd_code = {}\n",
    "for pid in pid_arf_valid:\n",
    "    data = load_patient_data_by_id(DATABASE_DIR, pid)\n",
    "    dx = data['diagnosis']['diagnosisstring']\n",
    "    icds = data['diagnosis']['icd9code']\n",
    "    for d, icd in zip(dx, icds):\n",
    "        if 'acute renal failure' in d:\n",
    "            if icd not in icd_code:\n",
    "                icd_code[icd] = [d]\n",
    "            else:\n",
    "                icd_code[icd].append(d)\n",
    "\n",
    "icd_code_count = {}\n",
    "for icd in icd_code:\n",
    "    count = Counter(icd_code[icd])\n",
    "    icd_code_count[icd] = {k:v for k,v in sorted(count.items(), key=lambda item: item[1], reverse=True)}"
   ]
  },
  {
   "cell_type": "code",
   "execution_count": 4,
   "metadata": {},
   "outputs": [
    {
     "name": "stdout",
     "output_type": "stream",
     "text": [
      "\n",
      "icd9code in database : 584.9, N17.9\n",
      "-- renal|disorder of kidney|acute renal failure: 13032\n",
      "-- renal|disorder of kidney|acute renal failure|due to hypovolemia/decreased circulating volume: 932\n",
      "-- renal|disorder of kidney|acute renal failure|due to sepsis: 578\n",
      "-- renal|disorder of kidney|acute renal failure|etiology unknown: 278\n",
      "-- renal|disorder of kidney|acute renal failure|due to rhabdomyolysis: 260\n",
      "-- renal|disorder of kidney|acute renal failure|due to renal ischemia: 175\n",
      "-- renal|disorder of kidney|acute renal failure|due to nephrotoxic agents: 58\n",
      "-- renal|disorder of kidney|acute renal failure|unstable during hemodialysis: 33\n",
      "-- renal|disorder of kidney|acute renal failure|due to interstitial nephritis from drugs: 29\n",
      "-- surgery|renal issues|acute renal failure: 14\n",
      "-- renal|disorder of kidney|acute renal failure|due to cardio-pulmonary bypass: 12\n",
      "-- renal|disorder of kidney|acute renal failure|due to nephrotoxic agents|hemolysis: 12\n",
      "-- renal|disorder of kidney|acute renal failure|due to nephrotoxic agents|rhabdomyolysis: 5\n",
      "-- surgery|renal issues|acute renal failure|etiology unknown: 5\n",
      "-- surgery|renal issues|acute renal failure|due to hypovolemia/decreased circulating volume: 3\n",
      "-- surgery|renal issues|acute renal failure|due to obstruction: 1\n",
      "-- surgery|renal issues|acute renal failure|due to sepsis: 1\n",
      "\n",
      "icd9code in database : 038.9, 584.9, R65.20, N17\n",
      "-- cardiovascular|shock / hypotension|sepsis|sepsis with single organ dysfunction- acute renal failure: 256\n",
      "-- infectious diseases|systemic/other infections|sepsis|sepsis with single organ dysfunction- acute renal failure: 132\n",
      "-- surgery|infections|sepsis|sepsis with single organ dysfunction- acute renal failure: 5\n",
      "\n",
      "icd9code in database : 599.60, N17.9\n",
      "-- renal|disorder of kidney|acute renal failure|due to obstruction: 106\n",
      "\n",
      "icd9code in database : 584.5, N17.0\n",
      "-- renal|disorder of kidney|acute renal failure|acute tubular necrosis: 484\n",
      "\n",
      "icd9code in database : 572.4, K76.7\n",
      "-- renal|disorder of kidney|acute renal failure|due to hepatorenal syndrome: 45\n",
      "\n",
      "icd9code in database : \n",
      "-- renal|disorder of kidney|acute renal failure|suspected: 147\n",
      "\n",
      "icd9code in database : 584.9, E942.9, N17.9\n",
      "-- renal|disorder of kidney|acute renal failure|due to nephrotoxic agents|ARBs: 14\n",
      "-- renal|disorder of kidney|acute renal failure|due to nephrotoxic agents|ACE inhibitors: 6\n",
      "\n",
      "icd9code in database : 584.9, E935.3, N17.9\n",
      "-- renal|disorder of kidney|acute renal failure|due to nephrotoxic agents|NSAIDs: 23\n",
      "\n",
      "icd9code in database : 584.9, E947.8, N17.9\n",
      "-- renal|disorder of kidney|acute renal failure|due to nephrotoxic agents|radiocontrast dye: 27\n"
     ]
    }
   ],
   "source": [
    "for icd in icd_code_count:\n",
    "    print(f'\\nicd9code in database : {icd}')\n",
    "    for dx in icd_code_count[icd]:\n",
    "        print(f'-- {dx}: {icd_code_count[icd][dx]}')"
   ]
  },
  {
   "cell_type": "markdown",
   "metadata": {},
   "source": [
    "# Save patient with diagnosis code \"584.9, N17.9\""
   ]
  },
  {
   "cell_type": "code",
   "execution_count": 5,
   "metadata": {},
   "outputs": [],
   "source": [
    "pid_arf_5849_cache_path = '_cache/pid_arf_5849.npy'\n",
    "if os.path.exists(pid_arf_5849_cache_path):\n",
    "    pid_arf_5849 = np.load(pid_arf_cache_path, allow_pickle=True)\n",
    "\n",
    "else:\n",
    "    pid_arf_5849 = {}\n",
    "    for pid in pid_arf_valid:\n",
    "        data = load_patient_data_by_id(DATABASE_DIR, pid)\n",
    "        icds = data['diagnosis']['icd9code'] \n",
    "        timestamps = data['diagnosis']['diagnosisoffset']\n",
    "        priority = data['diagnosis']['diagnosispriority']\n",
    "        for icd, ts, prior in zip(icds, timestamps, priority):\n",
    "            if icd == '584.9, N17.9':\n",
    "                if pid in pid_arf_5849:\n",
    "                    pid_arf_5849[pid].append([ts, prior])\n",
    "                else:\n",
    "                    pid_arf_5849[pid] = [ts, prior]\n",
    "    np.save(pid_arf_5849_cache_path, pid_arf_5849)"
   ]
  },
  {
   "cell_type": "markdown",
   "metadata": {},
   "source": [
    "# Analyse patient data 6h before the ARF event"
   ]
  },
  {
   "cell_type": "code",
   "execution_count": 6,
   "metadata": {},
   "outputs": [
    {
     "name": "stdout",
     "output_type": "stream",
     "text": [
      "UID : 700003\n"
     ]
    }
   ],
   "source": [
    "SELECTED_SIGNALS = [\n",
    "    # vitals\n",
    "    'heartrate', 'respiration', 'sao2',\n",
    "    'systemicsystolic', #'systemicdiastolic', 'systemicmean', \n",
    "    # intake & output\n",
    "    'nettotal', 'Urine', #'intaketotal', 'outputtotal', \n",
    "    # lab test\n",
    "    'BUN', 'creatinine', #'urinary sodium', 'urinary osmolality'\n",
    "    #'bedside glucose', 'potassium', 'sodium', 'Hgb', 'chloride',\n",
    "]\n",
    "\n",
    "SIGNAL_WINDOW_SIZE = {\n",
    "    #UNIT: MIN\n",
    "    'heartrate': 360, \n",
    "    'respiration': 360, \n",
    "    'sao2': 360,\n",
    "    'systemicsystolic': 360,\n",
    "    'nettotal': 1440, \n",
    "    'Urine': 1440,\n",
    "    'BUN': 1440, \n",
    "    'creatinine': 1440,\n",
    "}\n",
    "\n",
    "data_mapping = pd.read_csv('../../' + DATA_MAPPING_TSV_FILE, sep='\\t', header=0)\n",
    "uid_dict = data_mapping[['ParamNameOrigin', 'TableUID']]\n",
    "uid_dict = {uid_dict.iloc[i, 0]: uid_dict.iloc[i, 1] \n",
    "            for i in range(uid_dict.shape[0])}\n",
    "\n",
    "dx_target = '584.9, N17.9'\n",
    "dx_target_uid = uid_dict[dx_target]\n",
    "print(\"UID :\", dx_target_uid)"
   ]
  },
  {
   "cell_type": "markdown",
   "metadata": {},
   "source": [
    "## Example: plot of one patient"
   ]
  },
  {
   "cell_type": "code",
   "execution_count": 7,
   "metadata": {},
   "outputs": [],
   "source": [
    "# pid = pid_arf_5849[1300]\n",
    "# patient_data = pd.read_csv(f'../../{DATA_CLEANING_OUTPUT_FOLDER}/data_{pid}.dsv',\n",
    "#                            sep='$', header=0)\n",
    "\n",
    "# dx_list = patient_data[patient_data['UID'] > 7e5]\n",
    "# dx_target_list = dx_list[dx_list['UID'] == dx_target_uid]\n",
    "\n",
    "# nrows, ncols = 2, 4\n",
    "# fig, axs = plt.subplots(nrows, ncols, figsize=(20, 8))\n",
    "# fig.suptitle(f'Patient {pid}, icd9code {dx_target}')\n",
    "\n",
    "# for i in range(dx_target_list.shape[0]):\n",
    "#     dx = dx_target_list.iloc[i]\n",
    "#     ts = dx['Offset']\n",
    "    \n",
    "#     # skipped if diagnosis below 6hrs\n",
    "#     if ts < 360:\n",
    "#         continue\n",
    "    \n",
    "#     # ts_prev = dx_list[dx_list['Offset'] < ts]\n",
    "#     # if (ts_prev.shape[0] == 0) or (ts - ts_prev['Offset'].iloc[-1]) >= 600:\n",
    "#     for si, sig in enumerate(SELECTED_SIGNALS):\n",
    "#         uid = uid_dict[sig]\n",
    "#         sig_data = sig_data_before_event(uid, patient_data, ts,\n",
    "#                                 SIGNAL_WINDOW_SIZE[sig])\n",
    "\n",
    "#         irow = si // 4\n",
    "#         icol = si % 4\n",
    "#         axs[irow][icol].plot((sig_data['Offset']-ts)/60, sig_data['Value'])\n",
    "#         axs[irow][icol].set_title(sig)\n"
   ]
  },
  {
   "cell_type": "code",
   "execution_count": 95,
   "metadata": {},
   "outputs": [],
   "source": [
    "def sig_exist_Xhrs(offset, value, ts, window):    \n",
    "    return offset[(offset >= 0) & (offset < ts) & (offset >= ts - window)], value[(offset >= 0) & (offset < ts) & (offset >= ts - window)]"
   ]
  },
  {
   "cell_type": "code",
   "execution_count": 102,
   "metadata": {},
   "outputs": [
    {
     "data": {
      "image/png": "[encoded data removed]",
      "text/plain": [
       "<Figure size 1440x576 with 8 Axes>"
      ]
     },
     "metadata": {
      "needs_background": "light"
     },
     "output_type": "display_data"
    }
   ],
   "source": [
    "pid = pid_arf_5849[1300]\n",
    "patient_data = load_patient_data_by_id(DATABASE_DIR, pid)\n",
    "\n",
    "sorted_ids = np.argsort(patient_data['diagnosis']['diagnosisoffset'])\n",
    "patient_data['diagnosis']['icd9code'] = np.array(patient_data['diagnosis']['icd9code'])[sorted_ids]\n",
    "patient_data['diagnosis']['diagnosisoffset'] = np.array(patient_data['diagnosis']['diagnosisoffset'])[sorted_ids]\n",
    "patient_data['diagnosis']['diagnosispriority'] = np.array(patient_data['diagnosis']['diagnosispriority'])[sorted_ids]\n",
    "\n",
    "patient_data['diagnosis']['diagnosispriority'][np.where(patient_data['diagnosis']['icd9code']==dx_target)]\n",
    "patient_data['diagnosis']['diagnosisoffset'][np.where(patient_data['diagnosis']['icd9code']==dx_target)]\n",
    "patient_data['diagnosis']['icd9code'][np.where(patient_data['diagnosis']['icd9code']==dx_target)]\n",
    "\n",
    "sorted_ids = np.argsort(patient_data['vitalPeriodic']['observationoffset'])\n",
    "patient_data['vitalPeriodic']['observationoffset'] = np.array(patient_data['vitalPeriodic']['observationoffset'])[sorted_ids]\n",
    "patient_data['vitalPeriodic']['heartrate'] = np.array(patient_data['vitalPeriodic']['heartrate'])[sorted_ids]\n",
    "patient_data['vitalPeriodic']['respiration'] = np.array(patient_data['vitalPeriodic']['respiration'])[sorted_ids]\n",
    "patient_data['vitalPeriodic']['sao2'] = np.array(patient_data['vitalPeriodic']['sao2'])[sorted_ids]\n",
    "patient_data['vitalPeriodic']['systemicsystolic'] = np.array(patient_data['vitalPeriodic']['systemicsystolic'])[sorted_ids]\n",
    "\n",
    "subset_idx = select_entry_subset(patient_data, 'intakeOutput', 'celllabel', 'Urine')\n",
    "sorted_ids = np.argsort(np.array(patient_data['intakeOutput']['intakeoutputoffset'])[subset_idx])\n",
    "urine = np.array(select_list_subset_with_index(patient_data['intakeOutput']['cellvaluenumeric'], subset_idx))[sorted_ids]\n",
    "urine_offset = np.array(patient_data['intakeOutput']['intakeoutputoffset'])[subset_idx][sorted_ids]\n",
    "\n",
    "sorted_ids = np.argsort(patient_data['intakeOutput']['intakeoutputoffset'])\n",
    "patient_data['intakeOutput']['intakeoutputoffset'] = np.array(patient_data['intakeOutput']['intakeoutputoffset'])[sorted_ids]\n",
    "patient_data['intakeOutput']['nettotal'] = np.array(patient_data['intakeOutput']['nettotal'])[sorted_ids]\n",
    "\n",
    "subset_idx = select_entry_subset(patient_data, 'lab', 'labname', 'BUN')\n",
    "sorted_ids = np.argsort(np.array(patient_data['lab']['labresultoffset'])[subset_idx])\n",
    "bun = np.array(select_list_subset_with_index(patient_data['lab']['labresult'], subset_idx))[sorted_ids]\n",
    "bun_offset = np.array(patient_data['lab']['labresultoffset'])[subset_idx][sorted_ids]\n",
    "\n",
    "subset_idx = select_entry_subset(patient_data, 'lab', 'labname', 'creatinine')\n",
    "sorted_ids = np.argsort(np.array(patient_data['lab']['labresultoffset'])[subset_idx])\n",
    "creatinine = np.array(select_list_subset_with_index(patient_data['lab']['labresult'], subset_idx))[sorted_ids]\n",
    "creatinine_offset = np.array(patient_data['lab']['labresultoffset'])[subset_idx][sorted_ids]\n",
    "\n",
    "nrows, ncols = 2, 4\n",
    "fig, axs = plt.subplots(nrows, ncols, figsize=(20, 8))\n",
    "fig.suptitle(f'Patient {pid}, icd9code {dx_target}')\n",
    "\n",
    "for i in range(len(icds)):\n",
    "    dx = icds[i]\n",
    "    ts = timestamps[i]\n",
    "    \n",
    "    # skipped if diagnosis below 6hrs\n",
    "    if ts < 360:\n",
    "        continue\n",
    "\n",
    "    x, y = sig_exist_Xhrs(patient_data['vitalPeriodic']['observationoffset'], \n",
    "                          patient_data['vitalPeriodic']['heartrate'], ts, ts)\n",
    "    axs[0][0].plot(x, y, 'b.-')\n",
    "    axs[0][0].set_title('heartrate')\n",
    "\n",
    "    x, y = sig_exist_Xhrs(patient_data['vitalPeriodic']['observationoffset'], \n",
    "                          patient_data['vitalPeriodic']['respiration'], ts, ts)\n",
    "    axs[0][1].plot(x, y, 'b.-')\n",
    "    axs[0][1].set_title('respiration')\n",
    "\n",
    "    x, y = sig_exist_Xhrs(patient_data['vitalPeriodic']['observationoffset'], \n",
    "                          patient_data['vitalPeriodic']['sao2'], ts, ts)\n",
    "    axs[0][2].plot(x, y, 'b.-')\n",
    "    axs[0][2].set_title('sao2')\n",
    "\n",
    "    x, y = sig_exist_Xhrs(patient_data['vitalPeriodic']['observationoffset'], \n",
    "                          patient_data['vitalPeriodic']['systemicsystolic'], ts, ts)\n",
    "    axs[0][3].plot(x, y, 'b.-')\n",
    "    axs[0][3].set_title('systemicsystolic')\n",
    "\n",
    "    x, y = sig_exist_Xhrs(urine_offset, urine, ts, ts)\n",
    "    axs[1][0].plot(x, y, 'b.-')\n",
    "    axs[1][0].set_title('urine')\n",
    "\n",
    "    x, y = sig_exist_Xhrs(patient_data['intakeOutput']['intakeoutputoffset'], \n",
    "                          patient_data['intakeOutput']['nettotal'], ts, ts)\n",
    "    axs[1][1].plot(x, y, 'b.-')\n",
    "    axs[1][1].set_title('nettotal')\n",
    "\n",
    "    x, y = sig_exist_Xhrs(bun_offset, bun, ts, ts)\n",
    "    axs[1][2].plot(x, y, 'b.-')\n",
    "    axs[1][2].set_title('bun')\n",
    "\n",
    "    x, y = sig_exist_Xhrs(creatinine_offset, creatinine, ts, ts)\n",
    "    axs[1][3].plot(x, y, 'b.-')\n",
    "    axs[1][3].set_title('creatinine')\n"
   ]
  },
  {
   "cell_type": "markdown",
   "metadata": {},
   "source": [
    "## Save data plot for each patient"
   ]
  },
  {
   "cell_type": "code",
   "execution_count": null,
   "metadata": {},
   "outputs": [],
   "source": [
    "# for pid in pid_5849:\n",
    "#     # create plots\n",
    "#     nrows, ncols = 2, 4\n",
    "#     dx_fig, dy_fig = 1.5, 1\n",
    "#     figsize = plt.figaspect(float(dy_fig * nrows) / float(dx_fig * ncols))\n",
    "#     fig, axs = plt.subplots(nrows, ncols, figsize=figsize, dpi=300)\n",
    "#     fig.tight_layout()\n",
    "#     pad = 0.05 # Padding around the edge of the figure\n",
    "#     xpad, ypad = dx_fig * pad, dy_fig * pad\n",
    "#     fig.subplots_adjust(left=xpad, right=1-xpad, top=1-ypad, bottom=ypad)\n",
    "\n",
    "    \n",
    "#     patient_info, patient_data = load_processed_patient_data_by_id(pid)\n",
    "#     dx_list = patient_data[patient_data['UID']>7e5]\n",
    "#     dx_target_list = dx_list[dx_list['UID']==dx_target_uid]\n",
    "    \n",
    "#     for i in range(dx_target_list.shape[0]):\n",
    "#         dx =  dx_target_list.iloc[i]\n",
    "#         ts = dx['Offset']\n",
    "#         if dx['Value'] != 1:\n",
    "#             continue\n",
    "#         if ts < 360:\n",
    "#             continue\n",
    "#     #     print(dx['UID'], ts)\n",
    "#         ts_prev = dx_list[dx_list['Offset']<ts]\n",
    "#         if (ts_prev.shape[0] == 0) or (ts - ts_prev['Offset'].iloc[-1]) >= 600:\n",
    "#             for si, sig in enumerate(SELECTED_SIGNALS):\n",
    "#                 uid = uid_dict[sig]\n",
    "#                 sig_data = sig_data_before_event(uid, patient_data, ts, SIGNAL_WINDOW_SIZE[sig])\n",
    "\n",
    "#                 irow = si // 4\n",
    "#                 icol = si % 4\n",
    "#                 axs[irow][icol].plot((sig_data['Offset']-ts)/60, sig_data['Value'])\n",
    "#                 axs[irow][icol].set_title(sig)\n",
    "#                 axs[irow][icol].grid()\n",
    "                \n",
    "#             save_file = str(pid)+'.png'\n",
    "#             fig.savefig('processed/acute_renal_failure/patient_data_plots/'+save_file)\n",
    "#     fig.clf()\n",
    "#     plt.close('all')\n",
    "#     plt.close(fig)"
   ]
  }
 ],
 "metadata": {
  "interpreter": {
   "hash": "949777d72b0d2535278d3dc13498b2535136f6dfe0678499012e853ee9abcab1"
  },
  "kernelspec": {
   "display_name": "Python 3.8.10 64-bit",
   "name": "python3"
  },
  "language_info": {
   "codemirror_mode": {
    "name": "ipython",
    "version": 3
   },
   "file_extension": ".py",
   "mimetype": "text/x-python",
   "name": "python",
   "nbconvert_exporter": "python",
   "pygments_lexer": "ipython3",
   "version": "3.8.10"
  },
  "widgets": {
   "application/vnd.jupyter.widget-state+json": {
    "state": {},
    "version_major": 2,
    "version_minor": 0
   }
  }
 },
 "nbformat": 4,
 "nbformat_minor": 5
}
