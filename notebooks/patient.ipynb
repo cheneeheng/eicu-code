{
 "cells": [
  {
   "cell_type": "markdown",
   "metadata": {},
   "source": [
    "# patient\n",
    "\n",
    "The patinet table is a core part of the eICU-CRD and contains all information related to tracking patient unit stays. The table also contains patient demographics and hospital level information."
   ]
  },
  {
   "cell_type": "code",
   "execution_count": 3,
   "metadata": {},
   "outputs": [],
   "source": [
    "# Import libraries\n",
    "import numpy as np\n",
    "import pandas as pd\n",
    "import matplotlib.pyplot as plt\n",
    "import psycopg2\n",
    "import getpass\n",
    "import pdvega\n",
    "\n",
    "# for configuring connection \n",
    "from configobj import ConfigObj\n",
    "import os\n",
    "\n",
    "%matplotlib inline"
   ]
  },
  {
   "cell_type": "code",
   "execution_count": 4,
   "metadata": {},
   "outputs": [
    {
     "output_type": "stream",
     "name": "stdout",
     "text": [
      "Database: eicu\nUsername: eicu\n"
     ]
    }
   ],
   "source": [
    "# Create a database connection using settings from config file\n",
    "config='../db/config.ini'\n",
    "\n",
    "# connection info\n",
    "conn_info = dict()\n",
    "if os.path.isfile(config):\n",
    "    config = ConfigObj(config)\n",
    "    conn_info[\"sqluser\"] = config['username']\n",
    "    conn_info[\"sqlpass\"] = config['password']\n",
    "    conn_info[\"sqlhost\"] = config['host']\n",
    "    conn_info[\"sqlport\"] = config['port']\n",
    "    conn_info[\"dbname\"] = config['dbname']\n",
    "    conn_info[\"schema_name\"] = config['schema_name']\n",
    "else:\n",
    "    conn_info[\"sqluser\"] = 'postgres'\n",
    "    conn_info[\"sqlpass\"] = ''\n",
    "    conn_info[\"sqlhost\"] = 'localhost'\n",
    "    conn_info[\"sqlport\"] = 5432\n",
    "    conn_info[\"dbname\"] = 'eicu'\n",
    "    conn_info[\"schema_name\"] = 'public,eicu_crd'\n",
    "    \n",
    "# Connect to the eICU database\n",
    "print('Database: {}'.format(conn_info['dbname']))\n",
    "print('Username: {}'.format(conn_info[\"sqluser\"]))\n",
    "if conn_info[\"sqlpass\"] == '':\n",
    "    # try connecting without password, i.e. peer or OS authentication\n",
    "    try:\n",
    "        if (conn_info[\"sqlhost\"] == 'localhost') & (conn_info[\"sqlport\"]=='5432'):\n",
    "            con = psycopg2.connect(dbname=conn_info[\"dbname\"],\n",
    "                                   user=conn_info[\"sqluser\"])            \n",
    "        else:\n",
    "            con = psycopg2.connect(dbname=conn_info[\"dbname\"],\n",
    "                                   host=conn_info[\"sqlhost\"],\n",
    "                                   port=conn_info[\"sqlport\"],\n",
    "                                   user=conn_info[\"sqluser\"])\n",
    "    except:\n",
    "        conn_info[\"sqlpass\"] = getpass.getpass('Password: ')\n",
    "\n",
    "        con = psycopg2.connect(dbname=conn_info[\"dbname\"],\n",
    "                               host=conn_info[\"sqlhost\"],\n",
    "                               port=conn_info[\"sqlport\"],\n",
    "                               user=conn_info[\"sqluser\"],\n",
    "                               password=conn_info[\"sqlpass\"])\n",
    "query_schema = 'set search_path to ' + conn_info['schema_name'] + ';'"
   ]
  },
  {
   "cell_type": "code",
   "execution_count": 5,
   "metadata": {},
   "outputs": [],
   "source": [
    "NUM_PATIENTS = 200859"
   ]
  },
  {
   "cell_type": "markdown",
   "metadata": {},
   "source": [
    "## uniquePid\n",
    "\n",
    "The `uniquePid` column identifies a single patient across multiple stays. Let's look at a single `uniquepid`."
   ]
  },
  {
   "cell_type": "code",
   "execution_count": 6,
   "metadata": {
    "scrolled": true
   },
   "outputs": [
    {
     "output_type": "execute_result",
     "data": {
      "text/plain": [
       "   patientunitstayid  patienthealthsystemstayid  gender age  ethnicity  \\\n",
       "0             141178                     128927  Female  52  Caucasian   \n",
       "1             141179                     128927  Female  52  Caucasian   \n",
       "\n",
       "   hospitalid  wardid apacheadmissiondx  admissionheight hospitaladmittime24  \\\n",
       "0          60      83                              162.6            08:56:00   \n",
       "1          60      83                              162.6            08:56:00   \n",
       "\n",
       "   ...       unitadmitsource unitvisitnumber    unitstaytype admissionweight  \\\n",
       "0  ...  Emergency Department               1           admit            54.4   \n",
       "1  ...            ICU to SDU               2  stepdown/other             NaN   \n",
       "\n",
       "   dischargeweight unitdischargetime24 unitdischargeoffset  \\\n",
       "0             54.4            09:18:00                   8   \n",
       "1             60.4            19:20:00                2042   \n",
       "\n",
       "  unitdischargelocation unitdischargestatus  uniquepid  \n",
       "0  Step-Down Unit (SDU)               Alive  002-33870  \n",
       "1                  Home               Alive  002-33870  \n",
       "\n",
       "[2 rows x 29 columns]"
      ],
      "text/html": "<div>\n<style scoped>\n    .dataframe tbody tr th:only-of-type {\n        vertical-align: middle;\n    }\n\n    .dataframe tbody tr th {\n        vertical-align: top;\n    }\n\n    .dataframe thead th {\n        text-align: right;\n    }\n</style>\n<table border=\"1\" class=\"dataframe\">\n  <thead>\n    <tr style=\"text-align: right;\">\n      <th></th>\n      <th>patientunitstayid</th>\n      <th>patienthealthsystemstayid</th>\n      <th>gender</th>\n      <th>age</th>\n      <th>ethnicity</th>\n      <th>hospitalid</th>\n      <th>wardid</th>\n      <th>apacheadmissiondx</th>\n      <th>admissionheight</th>\n      <th>hospitaladmittime24</th>\n      <th>...</th>\n      <th>unitadmitsource</th>\n      <th>unitvisitnumber</th>\n      <th>unitstaytype</th>\n      <th>admissionweight</th>\n      <th>dischargeweight</th>\n      <th>unitdischargetime24</th>\n      <th>unitdischargeoffset</th>\n      <th>unitdischargelocation</th>\n      <th>unitdischargestatus</th>\n      <th>uniquepid</th>\n    </tr>\n  </thead>\n  <tbody>\n    <tr>\n      <th>0</th>\n      <td>141178</td>\n      <td>128927</td>\n      <td>Female</td>\n      <td>52</td>\n      <td>Caucasian</td>\n      <td>60</td>\n      <td>83</td>\n      <td></td>\n      <td>162.6</td>\n      <td>08:56:00</td>\n      <td>...</td>\n      <td>Emergency Department</td>\n      <td>1</td>\n      <td>admit</td>\n      <td>54.4</td>\n      <td>54.4</td>\n      <td>09:18:00</td>\n      <td>8</td>\n      <td>Step-Down Unit (SDU)</td>\n      <td>Alive</td>\n      <td>002-33870</td>\n    </tr>\n    <tr>\n      <th>1</th>\n      <td>141179</td>\n      <td>128927</td>\n      <td>Female</td>\n      <td>52</td>\n      <td>Caucasian</td>\n      <td>60</td>\n      <td>83</td>\n      <td></td>\n      <td>162.6</td>\n      <td>08:56:00</td>\n      <td>...</td>\n      <td>ICU to SDU</td>\n      <td>2</td>\n      <td>stepdown/other</td>\n      <td>NaN</td>\n      <td>60.4</td>\n      <td>19:20:00</td>\n      <td>2042</td>\n      <td>Home</td>\n      <td>Alive</td>\n      <td>002-33870</td>\n    </tr>\n  </tbody>\n</table>\n<p>2 rows × 29 columns</p>\n</div>"
     },
     "metadata": {},
     "execution_count": 6
    }
   ],
   "source": [
    "uniquepid = '002-33870'\n",
    "query = query_schema + \"\"\"\n",
    "select *\n",
    "from patient\n",
    "where uniquepid = '{}'\n",
    "\"\"\".format(uniquepid)\n",
    "\n",
    "df = pd.read_sql_query(query, con)\n",
    "# df.to_excel(\"../outputs/single_patient.xlsx\")\n",
    "# df.to_csv(\"../outputs/single_patient.csv\")\n",
    "df.head()"
   ]
  },
  {
   "cell_type": "markdown",
   "metadata": {},
   "source": [
    "Here we see two unit stays for a single patient. Note also that both unit stays have the same `patienthealthsystemstayid` - this indicates that they occurred within the same hospitalization.\n",
    "\n",
    "We can see the `unitstaytype` was 'admit' for one stay, and 'stepdown/other' for another. Other columns can give us more information."
   ]
  },
  {
   "cell_type": "code",
   "execution_count": 7,
   "metadata": {},
   "outputs": [
    {
     "output_type": "execute_result",
     "data": {
      "text/plain": [
       "   patientunitstayid  wardid      unittype    unitstaytype  \\\n",
       "0             141178      83  Med-Surg ICU           admit   \n",
       "1             141179      83  Med-Surg ICU  stepdown/other   \n",
       "\n",
       "   hospitaladmitoffset  unitdischargeoffset  \n",
       "0                  -14                    8  \n",
       "1                  -22                 2042  "
      ],
      "text/html": "<div>\n<style scoped>\n    .dataframe tbody tr th:only-of-type {\n        vertical-align: middle;\n    }\n\n    .dataframe tbody tr th {\n        vertical-align: top;\n    }\n\n    .dataframe thead th {\n        text-align: right;\n    }\n</style>\n<table border=\"1\" class=\"dataframe\">\n  <thead>\n    <tr style=\"text-align: right;\">\n      <th></th>\n      <th>patientunitstayid</th>\n      <th>wardid</th>\n      <th>unittype</th>\n      <th>unitstaytype</th>\n      <th>hospitaladmitoffset</th>\n      <th>unitdischargeoffset</th>\n    </tr>\n  </thead>\n  <tbody>\n    <tr>\n      <th>0</th>\n      <td>141178</td>\n      <td>83</td>\n      <td>Med-Surg ICU</td>\n      <td>admit</td>\n      <td>-14</td>\n      <td>8</td>\n    </tr>\n    <tr>\n      <th>1</th>\n      <td>141179</td>\n      <td>83</td>\n      <td>Med-Surg ICU</td>\n      <td>stepdown/other</td>\n      <td>-22</td>\n      <td>2042</td>\n    </tr>\n  </tbody>\n</table>\n</div>"
     },
     "metadata": {},
     "execution_count": 7
    }
   ],
   "source": [
    "df[['patientunitstayid', 'wardid', 'unittype', 'unitstaytype', 'hospitaladmitoffset', 'unitdischargeoffset']]"
   ]
  },
  {
   "cell_type": "markdown",
   "metadata": {},
   "source": [
    "Note that it's not explicitly obvious which stay occurred first. Earlier stays will be closer to hospital admission, and therefore have a *higher* hospitaladmitoffset. Above, the stay with a `hospitaladmitoffset` of -14 was first (occurring 14 minutes after hospital admission), followed by the next stay with a `hospitaladmitoffset` of 22 (which occurred 22 minutes after hospital admission). Practically, we wouldn't consider the first admission a \"real\" ICU stay, and it's likely an idiosyncrasy of the administration system at this particular hospital. Notice how both rows have the same `wardid`."
   ]
  },
  {
   "cell_type": "markdown",
   "metadata": {},
   "source": [
    "## Age\n",
    "\n",
    "As ages over 89 are required to be deidentified by HIPAA, the `age` column is actually a string field, with ages over 89 replaced with the string value '> 89'."
   ]
  },
  {
   "cell_type": "code",
   "execution_count": 8,
   "metadata": {},
   "outputs": [
    {
     "output_type": "execute_result",
     "data": {
      "text/plain": [
       "    age     n\n",
       "0  > 89  7081\n",
       "1    67  5078\n",
       "2    68  4826\n",
       "3    72  4804\n",
       "4    71  4764"
      ],
      "text/html": "<div>\n<style scoped>\n    .dataframe tbody tr th:only-of-type {\n        vertical-align: middle;\n    }\n\n    .dataframe tbody tr th {\n        vertical-align: top;\n    }\n\n    .dataframe thead th {\n        text-align: right;\n    }\n</style>\n<table border=\"1\" class=\"dataframe\">\n  <thead>\n    <tr style=\"text-align: right;\">\n      <th></th>\n      <th>age</th>\n      <th>n</th>\n    </tr>\n  </thead>\n  <tbody>\n    <tr>\n      <th>0</th>\n      <td>&gt; 89</td>\n      <td>7081</td>\n    </tr>\n    <tr>\n      <th>1</th>\n      <td>67</td>\n      <td>5078</td>\n    </tr>\n    <tr>\n      <th>2</th>\n      <td>68</td>\n      <td>4826</td>\n    </tr>\n    <tr>\n      <th>3</th>\n      <td>72</td>\n      <td>4804</td>\n    </tr>\n    <tr>\n      <th>4</th>\n      <td>71</td>\n      <td>4764</td>\n    </tr>\n  </tbody>\n</table>\n</div>"
     },
     "metadata": {},
     "execution_count": 8
    }
   ],
   "source": [
    "query = query_schema + \"\"\"\n",
    "select age, count(*) as n\n",
    "from patient\n",
    "group by age\n",
    "order by n desc\n",
    "\"\"\"\n",
    "\n",
    "df = pd.read_sql_query(query, con)\n",
    "df.head()"
   ]
  },
  {
   "cell_type": "markdown",
   "metadata": {},
   "source": [
    "As is common in eICU-CRD, there are a subset of hospitals who routinely utilize this portion of the medical record (and thus have 90-100% data completion), while there are other hospitals who rarely use this interface and thus have poor data completion (0-10%)."
   ]
  },
  {
   "source": [
    "## unitdischargestatus\n",
    "Identifies whether the patient is alive or dead when discharged from ICU.  \n",
    "There is a similar one for hospital discharge."
   ],
   "cell_type": "markdown",
   "metadata": {}
  },
  {
   "source": [],
   "cell_type": "markdown",
   "metadata": {}
  },
  {
   "cell_type": "code",
   "execution_count": 9,
   "metadata": {},
   "outputs": [
    {
     "output_type": "execute_result",
     "data": {
      "text/plain": [
       "  unitdischargestatus       n\n",
       "0               Alive  189918\n",
       "1             Expired   10907\n",
       "2                          34"
      ],
      "text/html": "<div>\n<style scoped>\n    .dataframe tbody tr th:only-of-type {\n        vertical-align: middle;\n    }\n\n    .dataframe tbody tr th {\n        vertical-align: top;\n    }\n\n    .dataframe thead th {\n        text-align: right;\n    }\n</style>\n<table border=\"1\" class=\"dataframe\">\n  <thead>\n    <tr style=\"text-align: right;\">\n      <th></th>\n      <th>unitdischargestatus</th>\n      <th>n</th>\n    </tr>\n  </thead>\n  <tbody>\n    <tr>\n      <th>0</th>\n      <td>Alive</td>\n      <td>189918</td>\n    </tr>\n    <tr>\n      <th>1</th>\n      <td>Expired</td>\n      <td>10907</td>\n    </tr>\n    <tr>\n      <th>2</th>\n      <td></td>\n      <td>34</td>\n    </tr>\n  </tbody>\n</table>\n</div>"
     },
     "metadata": {},
     "execution_count": 9
    }
   ],
   "source": [
    "query = query_schema + \"\"\"\n",
    "select unitdischargestatus, count(*) as n\n",
    "from patient\n",
    "group by unitdischargestatus\n",
    "order by n desc\n",
    "\"\"\"\n",
    "\n",
    "df = pd.read_sql_query(query, con)\n",
    "df.head()"
   ]
  },
  {
   "cell_type": "code",
   "execution_count": 10,
   "metadata": {},
   "outputs": [
    {
     "output_type": "execute_result",
     "data": {
      "text/plain": [
       "   patientunitstayid  patienthealthsystemstayid  gender age  ethnicity  \\\n",
       "0             141168                     128919  Female  70  Caucasian   \n",
       "1             141297                     129026    Male  63  Caucasian   \n",
       "2             141314                     129039    Male  45  Caucasian   \n",
       "3             141556                     129238  Female  83  Caucasian   \n",
       "4             142154                     129683    Male  74  Caucasian   \n",
       "\n",
       "   hospitalid  wardid                              apacheadmissiondx  \\\n",
       "0          59      91  Rhythm disturbance (atrial, supraventricular)   \n",
       "1          73      85                              Sepsis, pulmonary   \n",
       "2          73      85       Aneurysm, abdominal aortic; with rupture   \n",
       "3          56      82                                                  \n",
       "4          73      97                                                  \n",
       "\n",
       "   admissionheight hospitaladmittime24  ...  unitadmitsource unitvisitnumber  \\\n",
       "0            152.4            15:54:00  ...     Direct Admit               1   \n",
       "1            162.6            04:18:00  ...            Floor               2   \n",
       "2            170.2            00:41:00  ...   Operating Room               2   \n",
       "3            165.1            22:54:00  ...       ICU to SDU               2   \n",
       "4            167.6            17:29:00  ...       ICU to SDU               2   \n",
       "\n",
       "     unitstaytype admissionweight  dischargeweight unitdischargetime24  \\\n",
       "0           admit            84.3             85.8            03:50:00   \n",
       "1         readmit             NaN             74.4            03:41:00   \n",
       "2        transfer             NaN            102.6            18:39:00   \n",
       "3  stepdown/other             NaN              NaN            14:19:00   \n",
       "4  stepdown/other             NaN              NaN            19:32:00   \n",
       "\n",
       "  unitdischargeoffset unitdischargelocation unitdischargestatus  uniquepid  \n",
       "0                3596                 Death             Expired  002-34851  \n",
       "1                1869                 Death             Expired  002-30269  \n",
       "2                 632                 Death             Expired  002-70742  \n",
       "3                2459                 Death             Expired  002-35104  \n",
       "4                1081                 Death             Expired   002-7333  \n",
       "\n",
       "[5 rows x 29 columns]"
      ],
      "text/html": "<div>\n<style scoped>\n    .dataframe tbody tr th:only-of-type {\n        vertical-align: middle;\n    }\n\n    .dataframe tbody tr th {\n        vertical-align: top;\n    }\n\n    .dataframe thead th {\n        text-align: right;\n    }\n</style>\n<table border=\"1\" class=\"dataframe\">\n  <thead>\n    <tr style=\"text-align: right;\">\n      <th></th>\n      <th>patientunitstayid</th>\n      <th>patienthealthsystemstayid</th>\n      <th>gender</th>\n      <th>age</th>\n      <th>ethnicity</th>\n      <th>hospitalid</th>\n      <th>wardid</th>\n      <th>apacheadmissiondx</th>\n      <th>admissionheight</th>\n      <th>hospitaladmittime24</th>\n      <th>...</th>\n      <th>unitadmitsource</th>\n      <th>unitvisitnumber</th>\n      <th>unitstaytype</th>\n      <th>admissionweight</th>\n      <th>dischargeweight</th>\n      <th>unitdischargetime24</th>\n      <th>unitdischargeoffset</th>\n      <th>unitdischargelocation</th>\n      <th>unitdischargestatus</th>\n      <th>uniquepid</th>\n    </tr>\n  </thead>\n  <tbody>\n    <tr>\n      <th>0</th>\n      <td>141168</td>\n      <td>128919</td>\n      <td>Female</td>\n      <td>70</td>\n      <td>Caucasian</td>\n      <td>59</td>\n      <td>91</td>\n      <td>Rhythm disturbance (atrial, supraventricular)</td>\n      <td>152.4</td>\n      <td>15:54:00</td>\n      <td>...</td>\n      <td>Direct Admit</td>\n      <td>1</td>\n      <td>admit</td>\n      <td>84.3</td>\n      <td>85.8</td>\n      <td>03:50:00</td>\n      <td>3596</td>\n      <td>Death</td>\n      <td>Expired</td>\n      <td>002-34851</td>\n    </tr>\n    <tr>\n      <th>1</th>\n      <td>141297</td>\n      <td>129026</td>\n      <td>Male</td>\n      <td>63</td>\n      <td>Caucasian</td>\n      <td>73</td>\n      <td>85</td>\n      <td>Sepsis, pulmonary</td>\n      <td>162.6</td>\n      <td>04:18:00</td>\n      <td>...</td>\n      <td>Floor</td>\n      <td>2</td>\n      <td>readmit</td>\n      <td>NaN</td>\n      <td>74.4</td>\n      <td>03:41:00</td>\n      <td>1869</td>\n      <td>Death</td>\n      <td>Expired</td>\n      <td>002-30269</td>\n    </tr>\n    <tr>\n      <th>2</th>\n      <td>141314</td>\n      <td>129039</td>\n      <td>Male</td>\n      <td>45</td>\n      <td>Caucasian</td>\n      <td>73</td>\n      <td>85</td>\n      <td>Aneurysm, abdominal aortic; with rupture</td>\n      <td>170.2</td>\n      <td>00:41:00</td>\n      <td>...</td>\n      <td>Operating Room</td>\n      <td>2</td>\n      <td>transfer</td>\n      <td>NaN</td>\n      <td>102.6</td>\n      <td>18:39:00</td>\n      <td>632</td>\n      <td>Death</td>\n      <td>Expired</td>\n      <td>002-70742</td>\n    </tr>\n    <tr>\n      <th>3</th>\n      <td>141556</td>\n      <td>129238</td>\n      <td>Female</td>\n      <td>83</td>\n      <td>Caucasian</td>\n      <td>56</td>\n      <td>82</td>\n      <td></td>\n      <td>165.1</td>\n      <td>22:54:00</td>\n      <td>...</td>\n      <td>ICU to SDU</td>\n      <td>2</td>\n      <td>stepdown/other</td>\n      <td>NaN</td>\n      <td>NaN</td>\n      <td>14:19:00</td>\n      <td>2459</td>\n      <td>Death</td>\n      <td>Expired</td>\n      <td>002-35104</td>\n    </tr>\n    <tr>\n      <th>4</th>\n      <td>142154</td>\n      <td>129683</td>\n      <td>Male</td>\n      <td>74</td>\n      <td>Caucasian</td>\n      <td>73</td>\n      <td>97</td>\n      <td></td>\n      <td>167.6</td>\n      <td>17:29:00</td>\n      <td>...</td>\n      <td>ICU to SDU</td>\n      <td>2</td>\n      <td>stepdown/other</td>\n      <td>NaN</td>\n      <td>NaN</td>\n      <td>19:32:00</td>\n      <td>1081</td>\n      <td>Death</td>\n      <td>Expired</td>\n      <td>002-7333</td>\n    </tr>\n  </tbody>\n</table>\n<p>5 rows × 29 columns</p>\n</div>"
     },
     "metadata": {},
     "execution_count": 10
    }
   ],
   "source": [
    "unitdischargestatus = 'Expired'\n",
    "query = query_schema + \"\"\"\n",
    "select *\n",
    "from patient\n",
    "where unitdischargestatus = '{}'\n",
    "order by patienthealthsystemstayid\n",
    "\"\"\".format(unitdischargestatus)\n",
    "\n",
    "df = pd.read_sql_query(query, con)\n",
    "df.head()"
   ]
  },
  {
   "source": [
    "## patienthealthsystemstayid\n",
    "Entries with the same ID indicate that there is multiple ICU visits during the same hospitalization."
   ],
   "cell_type": "markdown",
   "metadata": {}
  },
  {
   "cell_type": "code",
   "execution_count": 11,
   "metadata": {},
   "outputs": [
    {
     "output_type": "execute_result",
     "data": {
      "text/plain": [
       "   patienthealthsystemstayid   n\n",
       "0                     590180  17\n",
       "1                     498628  13\n",
       "2                    2416711  12\n",
       "3                     631956  11\n",
       "4                     603432  11"
      ],
      "text/html": "<div>\n<style scoped>\n    .dataframe tbody tr th:only-of-type {\n        vertical-align: middle;\n    }\n\n    .dataframe tbody tr th {\n        vertical-align: top;\n    }\n\n    .dataframe thead th {\n        text-align: right;\n    }\n</style>\n<table border=\"1\" class=\"dataframe\">\n  <thead>\n    <tr style=\"text-align: right;\">\n      <th></th>\n      <th>patienthealthsystemstayid</th>\n      <th>n</th>\n    </tr>\n  </thead>\n  <tbody>\n    <tr>\n      <th>0</th>\n      <td>590180</td>\n      <td>17</td>\n    </tr>\n    <tr>\n      <th>1</th>\n      <td>498628</td>\n      <td>13</td>\n    </tr>\n    <tr>\n      <th>2</th>\n      <td>2416711</td>\n      <td>12</td>\n    </tr>\n    <tr>\n      <th>3</th>\n      <td>631956</td>\n      <td>11</td>\n    </tr>\n    <tr>\n      <th>4</th>\n      <td>603432</td>\n      <td>11</td>\n    </tr>\n  </tbody>\n</table>\n</div>"
     },
     "metadata": {},
     "execution_count": 11
    }
   ],
   "source": [
    "query = query_schema + \"\"\"\n",
    "select patienthealthsystemstayid, count(*) as n\n",
    "from patient\n",
    "group by patienthealthsystemstayid\n",
    "order by n desc\n",
    "\"\"\"\n",
    "\n",
    "df = pd.read_sql_query(query, con)\n",
    "df.head()"
   ]
  },
  {
   "cell_type": "code",
   "execution_count": 12,
   "metadata": {},
   "outputs": [
    {
     "output_type": "execute_result",
     "data": {
      "text/plain": [
       "    patientunitstayid  wardid      unittype    unitstaytype  \\\n",
       "0              766322     374  Med-Surg ICU  stepdown/other   \n",
       "1              766315     374  Med-Surg ICU         readmit   \n",
       "2              766308     374  Med-Surg ICU  stepdown/other   \n",
       "3              766311     374  Med-Surg ICU         readmit   \n",
       "4              766312     374  Med-Surg ICU  stepdown/other   \n",
       "5              766317     374  Med-Surg ICU         readmit   \n",
       "6              766321     374  Med-Surg ICU  stepdown/other   \n",
       "7              766310     374  Med-Surg ICU         readmit   \n",
       "8              766320     374  Med-Surg ICU  stepdown/other   \n",
       "9              766319     374  Med-Surg ICU         readmit   \n",
       "10             766318     374  Med-Surg ICU  stepdown/other   \n",
       "11             766323     374  Med-Surg ICU         readmit   \n",
       "12             766307     374  Med-Surg ICU  stepdown/other   \n",
       "13             766309     374  Med-Surg ICU         readmit   \n",
       "14             766313     374  Med-Surg ICU  stepdown/other   \n",
       "15             766314     374  Med-Surg ICU           admit   \n",
       "16             766316     374  Med-Surg ICU  stepdown/other   \n",
       "\n",
       "    hospitaladmitoffset  unitdischargeoffset  \n",
       "0                -81470                 8815  \n",
       "1                -71603                 9867  \n",
       "2                -71002                  601  \n",
       "3                -70067                  935  \n",
       "4                -58401                 2269  \n",
       "5                -55207                 3194  \n",
       "6                -46750                 8457  \n",
       "7                -42670                 4080  \n",
       "8                -42613                   57  \n",
       "9                -42612                    1  \n",
       "10               -19720                 6503  \n",
       "11               -16520                 3200  \n",
       "12               -16520                    0  \n",
       "13               -16517                    3  \n",
       "14               -16490                   27  \n",
       "15               -16486                    4  \n",
       "16                  -66                12356  "
      ],
      "text/html": "<div>\n<style scoped>\n    .dataframe tbody tr th:only-of-type {\n        vertical-align: middle;\n    }\n\n    .dataframe tbody tr th {\n        vertical-align: top;\n    }\n\n    .dataframe thead th {\n        text-align: right;\n    }\n</style>\n<table border=\"1\" class=\"dataframe\">\n  <thead>\n    <tr style=\"text-align: right;\">\n      <th></th>\n      <th>patientunitstayid</th>\n      <th>wardid</th>\n      <th>unittype</th>\n      <th>unitstaytype</th>\n      <th>hospitaladmitoffset</th>\n      <th>unitdischargeoffset</th>\n    </tr>\n  </thead>\n  <tbody>\n    <tr>\n      <th>0</th>\n      <td>766322</td>\n      <td>374</td>\n      <td>Med-Surg ICU</td>\n      <td>stepdown/other</td>\n      <td>-81470</td>\n      <td>8815</td>\n    </tr>\n    <tr>\n      <th>1</th>\n      <td>766315</td>\n      <td>374</td>\n      <td>Med-Surg ICU</td>\n      <td>readmit</td>\n      <td>-71603</td>\n      <td>9867</td>\n    </tr>\n    <tr>\n      <th>2</th>\n      <td>766308</td>\n      <td>374</td>\n      <td>Med-Surg ICU</td>\n      <td>stepdown/other</td>\n      <td>-71002</td>\n      <td>601</td>\n    </tr>\n    <tr>\n      <th>3</th>\n      <td>766311</td>\n      <td>374</td>\n      <td>Med-Surg ICU</td>\n      <td>readmit</td>\n      <td>-70067</td>\n      <td>935</td>\n    </tr>\n    <tr>\n      <th>4</th>\n      <td>766312</td>\n      <td>374</td>\n      <td>Med-Surg ICU</td>\n      <td>stepdown/other</td>\n      <td>-58401</td>\n      <td>2269</td>\n    </tr>\n    <tr>\n      <th>5</th>\n      <td>766317</td>\n      <td>374</td>\n      <td>Med-Surg ICU</td>\n      <td>readmit</td>\n      <td>-55207</td>\n      <td>3194</td>\n    </tr>\n    <tr>\n      <th>6</th>\n      <td>766321</td>\n      <td>374</td>\n      <td>Med-Surg ICU</td>\n      <td>stepdown/other</td>\n      <td>-46750</td>\n      <td>8457</td>\n    </tr>\n    <tr>\n      <th>7</th>\n      <td>766310</td>\n      <td>374</td>\n      <td>Med-Surg ICU</td>\n      <td>readmit</td>\n      <td>-42670</td>\n      <td>4080</td>\n    </tr>\n    <tr>\n      <th>8</th>\n      <td>766320</td>\n      <td>374</td>\n      <td>Med-Surg ICU</td>\n      <td>stepdown/other</td>\n      <td>-42613</td>\n      <td>57</td>\n    </tr>\n    <tr>\n      <th>9</th>\n      <td>766319</td>\n      <td>374</td>\n      <td>Med-Surg ICU</td>\n      <td>readmit</td>\n      <td>-42612</td>\n      <td>1</td>\n    </tr>\n    <tr>\n      <th>10</th>\n      <td>766318</td>\n      <td>374</td>\n      <td>Med-Surg ICU</td>\n      <td>stepdown/other</td>\n      <td>-19720</td>\n      <td>6503</td>\n    </tr>\n    <tr>\n      <th>11</th>\n      <td>766323</td>\n      <td>374</td>\n      <td>Med-Surg ICU</td>\n      <td>readmit</td>\n      <td>-16520</td>\n      <td>3200</td>\n    </tr>\n    <tr>\n      <th>12</th>\n      <td>766307</td>\n      <td>374</td>\n      <td>Med-Surg ICU</td>\n      <td>stepdown/other</td>\n      <td>-16520</td>\n      <td>0</td>\n    </tr>\n    <tr>\n      <th>13</th>\n      <td>766309</td>\n      <td>374</td>\n      <td>Med-Surg ICU</td>\n      <td>readmit</td>\n      <td>-16517</td>\n      <td>3</td>\n    </tr>\n    <tr>\n      <th>14</th>\n      <td>766313</td>\n      <td>374</td>\n      <td>Med-Surg ICU</td>\n      <td>stepdown/other</td>\n      <td>-16490</td>\n      <td>27</td>\n    </tr>\n    <tr>\n      <th>15</th>\n      <td>766314</td>\n      <td>374</td>\n      <td>Med-Surg ICU</td>\n      <td>admit</td>\n      <td>-16486</td>\n      <td>4</td>\n    </tr>\n    <tr>\n      <th>16</th>\n      <td>766316</td>\n      <td>374</td>\n      <td>Med-Surg ICU</td>\n      <td>stepdown/other</td>\n      <td>-66</td>\n      <td>12356</td>\n    </tr>\n  </tbody>\n</table>\n</div>"
     },
     "metadata": {},
     "execution_count": 12
    }
   ],
   "source": [
    "patienthealthsystemstayid = '590180'\n",
    "query = query_schema + \"\"\"\n",
    "select *\n",
    "from patient\n",
    "where patienthealthsystemstayid = '{}'\n",
    "order by hospitaladmitoffset\n",
    "\"\"\".format(patienthealthsystemstayid)\n",
    "\n",
    "df = pd.read_sql_query(query, con)\n",
    "df.head()\n",
    "df[['patientunitstayid', 'wardid', 'unittype', 'unitstaytype', 'hospitaladmitoffset', 'unitdischargeoffset']]"
   ]
  },
  {
   "source": [
    "## unitType\n",
    "Type of ICU the patients stayed in."
   ],
   "cell_type": "markdown",
   "metadata": {}
  },
  {
   "cell_type": "code",
   "execution_count": 13,
   "metadata": {},
   "outputs": [
    {
     "output_type": "execute_result",
     "data": {
      "text/plain": [
       "       unittype       n\n",
       "0  Med-Surg ICU  113222\n",
       "1          MICU   17465\n",
       "2     CCU-CTICU   15290\n",
       "3     Neuro ICU   14451\n",
       "4   Cardiac ICU   12467\n",
       "5          SICU   12181\n",
       "6         CSICU    9625\n",
       "7         CTICU    6158"
      ],
      "text/html": "<div>\n<style scoped>\n    .dataframe tbody tr th:only-of-type {\n        vertical-align: middle;\n    }\n\n    .dataframe tbody tr th {\n        vertical-align: top;\n    }\n\n    .dataframe thead th {\n        text-align: right;\n    }\n</style>\n<table border=\"1\" class=\"dataframe\">\n  <thead>\n    <tr style=\"text-align: right;\">\n      <th></th>\n      <th>unittype</th>\n      <th>n</th>\n    </tr>\n  </thead>\n  <tbody>\n    <tr>\n      <th>0</th>\n      <td>Med-Surg ICU</td>\n      <td>113222</td>\n    </tr>\n    <tr>\n      <th>1</th>\n      <td>MICU</td>\n      <td>17465</td>\n    </tr>\n    <tr>\n      <th>2</th>\n      <td>CCU-CTICU</td>\n      <td>15290</td>\n    </tr>\n    <tr>\n      <th>3</th>\n      <td>Neuro ICU</td>\n      <td>14451</td>\n    </tr>\n    <tr>\n      <th>4</th>\n      <td>Cardiac ICU</td>\n      <td>12467</td>\n    </tr>\n    <tr>\n      <th>5</th>\n      <td>SICU</td>\n      <td>12181</td>\n    </tr>\n    <tr>\n      <th>6</th>\n      <td>CSICU</td>\n      <td>9625</td>\n    </tr>\n    <tr>\n      <th>7</th>\n      <td>CTICU</td>\n      <td>6158</td>\n    </tr>\n  </tbody>\n</table>\n</div>"
     },
     "metadata": {},
     "execution_count": 13
    }
   ],
   "source": [
    "query = query_schema + \"\"\"\n",
    "select unitType, count(*) as n\n",
    "from patient\n",
    "group by unitType\n",
    "order by n desc\n",
    "\"\"\"\n",
    "\n",
    "df = pd.read_sql_query(query, con)\n",
    "assert df['n'].sum() == NUM_PATIENTS, f\"{df['n'].sum()} =/= {NUM_PATIENTS}\"\n",
    "df"
   ]
  },
  {
   "cell_type": "code",
   "execution_count": null,
   "metadata": {},
   "outputs": [],
   "source": []
  }
 ],
 "metadata": {
  "kernelspec": {
   "name": "python3",
   "display_name": "Python 3",
   "language": "python"
  }
 },
 "nbformat": 4,
 "nbformat_minor": 2
}